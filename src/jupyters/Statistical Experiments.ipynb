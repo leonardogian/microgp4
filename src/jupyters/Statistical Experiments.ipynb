{
 "cells": [
  {
   "cell_type": "code",
   "execution_count": 1,
   "metadata": {},
   "outputs": [],
   "source": [
    "#############################################################################\n",
    "#          __________                                                       #\n",
    "#   __  __/ ____/ __ \\__ __   This file is part of MicroGP4 v1.0 \"Kiwi\"     #\n",
    "#  / / / / / __/ /_/ / // /   (!) by Giovanni Squillero and Alberto Tonda   #\n",
    "# / /_/ / /_/ / ____/ // /_   https://github.com/squillero/microgp4         #\n",
    "# \\__  /\\____/_/   /__  __/                                                 #\n",
    "#   /_/ --MicroGP4-- /_/      \"You don't need a big goal, be μ-ambitious!!\" #\n",
    "#                                                                           #\n",
    "#############################################################################"
   ]
  },
  {
   "cell_type": "code",
   "execution_count": 2,
   "metadata": {},
   "outputs": [],
   "source": [
    "%matplotlib inline\n",
    "\n",
    "import sys\n",
    "sys.path += ['..']\n",
    "\n",
    "import os\n",
    "os.environ['PYTHONWARNINGS'] = 'default'"
   ]
  },
  {
   "cell_type": "code",
   "execution_count": 3,
   "metadata": {},
   "outputs": [
    {
     "name": "stderr",
     "output_type": "stream",
     "text": [
      "C:\\ProgramData\\Anaconda3\\lib\\site-packages\\ipykernel_launcher.py:1: UserWarning: Paranoia checks are active; performances can be significantly impaired (consider using '-O')\n",
      "  \"\"\"Entry point for launching an IPython kernel.\n"
     ]
    }
   ],
   "source": [
    "import microgp as ugp4"
   ]
  },
  {
   "cell_type": "code",
   "execution_count": 90,
   "metadata": {},
   "outputs": [
    {
     "data": {
      "text/plain": [
       "(-100, 100)"
      ]
     },
     "execution_count": 90,
     "metadata": {},
     "output_type": "execute_result"
    },
    {
     "data": {
      "image/png": "[encoded data removed]",
      "text/plain": [
       "<Figure size 432x288 with 1 Axes>"
      ]
     },
     "metadata": {
      "needs_background": "light"
     },
     "output_type": "display_data"
    }
   ],
   "source": [
    "import matplotlib.pyplot as plt\n",
    "import seaborn as sns"
   ]
  },
  {
   "cell_type": "code",
   "execution_count": 222,
   "metadata": {},
   "outputs": [
    {
     "data": {
      "text/plain": [
       "(array([185.,   0., 174.,   0., 161.,   0., 195.,   0., 143., 142.]),\n",
       " array([0. , 0.5, 1. , 1.5, 2. , 2.5, 3. , 3.5, 4. , 4.5, 5. ]),\n",
       " <a list of 10 Patch objects>)"
      ]
     },
     "execution_count": 222,
     "metadata": {},
     "output_type": "execute_result"
    },
    {
     "data": {
      "image/png": "[encoded data removed]",
      "text/plain": [
       "<Figure size 432x288 with 1 Axes>"
      ]
     },
     "metadata": {
      "needs_background": "light"
     },
     "output_type": "display_data"
    }
   ],
   "source": [
    "def scale(sigma):\n",
    "    sigma = math.pow(sigma, .01)\n",
    "    sigma = sigma/2 + .5\n",
    "    scale = math.log(sigma/(1-sigma))\n",
    "    #sigma = sigma ** .02\n",
    "    #sigma = sigma*math.pi/2.\n",
    "    #scale = math.tan(sigma)\n",
    "    return scale\n",
    "\n",
    "myclip_a = 0\n",
    "myclip_b = 5 +1\n",
    "my_mean = 2\n",
    "my_std = scale(.5)\n",
    "\n",
    "a, b = (myclip_a - my_mean) / my_std, (myclip_b - my_mean) / my_std\n",
    "\n",
    "samples = [int(_) for _ in truncnorm.rvs(a=a, b=b, loc=my_mean, scale=my_std, size=1000)]\n",
    "plt.hist(samples)"
   ]
  },
  {
   "cell_type": "code",
   "execution_count": 203,
   "metadata": {},
   "outputs": [
    {
     "data": {
      "text/plain": [
       "array([473.6373792])"
      ]
     },
     "execution_count": 203,
     "metadata": {},
     "output_type": "execute_result"
    }
   ],
   "source": [
    "samples"
   ]
  },
  {
   "cell_type": "code",
   "execution_count": 298,
   "metadata": {},
   "outputs": [],
   "source": [
    "import scipy\n",
    "import random"
   ]
  },
  {
   "cell_type": "code",
   "execution_count": 393,
   "metadata": {},
   "outputs": [],
   "source": [
    "def sigma_offset(min_, max_, strength=None):\n",
    "    assert strength is None or 0 <= strength <= 1, \"Illegal strength\"\n",
    "    scale = strength/(1-strength**3)\n",
    "    scale *= max_ - min_\n",
    "    a, b = min_/scale, max_/scale\n",
    "    val = truncnorm.rvs(a=a, b=b, loc=0, scale=scale)\n",
    "    return int(round(val))"
   ]
  },
  {
   "cell_type": "code",
   "execution_count": 402,
   "metadata": {},
   "outputs": [
    {
     "data": {
      "text/plain": [
       "(array([1896., 1234., 1181., 1078., 1066.,  874.,  799.,  660.,  547.,\n",
       "         665.]),\n",
       " array([-1. ,  0.1,  1.2,  2.3,  3.4,  4.5,  5.6,  6.7,  7.8,  8.9, 10. ]),\n",
       " <a list of 10 Patch objects>)"
      ]
     },
     "execution_count": 402,
     "metadata": {},
     "output_type": "execute_result"
    },
    {
     "data": {
      "image/png": "[encoded data removed]",
      "text/plain": [
       "<Figure size 432x288 with 1 Axes>"
      ]
     },
     "metadata": {
      "needs_background": "light"
     },
     "output_type": "display_data"
    }
   ],
   "source": [
    "min_, max_ = -1, 10\n",
    "ax = None\n",
    "samples = [sigma_offset(min_, max_, s) for _ in range(10000)]\n",
    "plt.hist(samples)"
   ]
  },
  {
   "cell_type": "code",
   "execution_count": 364,
   "metadata": {},
   "outputs": [
    {
     "data": {
      "text/plain": [
       "(-10, 100)"
      ]
     },
     "execution_count": 364,
     "metadata": {},
     "output_type": "execute_result"
    },
    {
     "data": {
      "image/png": "[encoded data removed]",
      "text/plain": [
       "<Figure size 432x288 with 1 Axes>"
      ]
     },
     "metadata": {
      "needs_background": "light"
     },
     "output_type": "display_data"
    }
   ],
   "source": [
    "min_, max_ = -10, 100\n",
    "ax = None\n",
    "for s in [.1, .5, .9]:\n",
    "    samples = [sigma_offset(min_, max_, s) for _ in range(10000)]\n",
    "    ax = sns.distplot(samples, kde=False, ax=ax)\n",
    "ax.set_xlim(xmin=min_, xmax=max_)"
   ]
  },
  {
   "cell_type": "code",
   "execution_count": 365,
   "metadata": {},
   "outputs": [
    {
     "data": {
      "text/plain": [
       "(-100, 1000)"
      ]
     },
     "execution_count": 365,
     "metadata": {},
     "output_type": "execute_result"
    },
    {
     "data": {
      "image/png": "[encoded data removed]",
      "text/plain": [
       "<Figure size 432x288 with 1 Axes>"
      ]
     },
     "metadata": {
      "needs_background": "light"
     },
     "output_type": "display_data"
    }
   ],
   "source": [
    "min_, max_ = -100, 1000\n",
    "ax = None\n",
    "for s in [.1, .5, .9]:\n",
    "    samples = [sigma_offset(min_, max_, s) for _ in range(10000)]\n",
    "    ax = sns.distplot(samples, kde=False, ax=ax)\n",
    "ax.set_xlim(xmin=min_, xmax=max_)"
   ]
  },
  {
   "cell_type": "code",
   "execution_count": 294,
   "metadata": {},
   "outputs": [
    {
     "name": "stdout",
     "output_type": "stream",
     "text": [
      "74.6 µs ± 1.65 µs per loop (mean ± std. dev. of 7 runs, 10000 loops each)\n"
     ]
    }
   ],
   "source": [
    "%timeit tnorm(.1, .0001)"
   ]
  },
  {
   "cell_type": "code",
   "execution_count": 300,
   "metadata": {},
   "outputs": [],
   "source": [
    "import random"
   ]
  },
  {
   "cell_type": "code",
   "execution_count": 301,
   "metadata": {},
   "outputs": [
    {
     "data": {
      "text/plain": [
       "0.7325593835360266"
      ]
     },
     "execution_count": 301,
     "metadata": {},
     "output_type": "execute_result"
    }
   ],
   "source": [
    "random.random()"
   ]
  },
  {
   "cell_type": "code",
   "execution_count": 383,
   "metadata": {},
   "outputs": [
    {
     "data": {
      "text/plain": [
       "-1"
      ]
     },
     "execution_count": 383,
     "metadata": {},
     "output_type": "execute_result"
    }
   ],
   "source": [
    "round(-0.9)"
   ]
  },
  {
   "cell_type": "raw",
   "metadata": {},
   "source": []
  }
 ],
 "metadata": {
  "kernelspec": {
   "display_name": "Python 3",
   "language": "python",
   "name": "python3"
  },
  "language_info": {
   "codemirror_mode": {
    "name": "ipython",
    "version": 3
   },
   "file_extension": ".py",
   "mimetype": "text/x-python",
   "name": "python",
   "nbconvert_exporter": "python",
   "pygments_lexer": "ipython3",
   "version": "3.7.7"
  }
 },
 "nbformat": 4,
 "nbformat_minor": 4
}
