{
 "cells": [
  {
   "cell_type": "code",
   "execution_count": 162,
   "metadata": {},
   "outputs": [],
   "source": [
    "#############################################################################\n",
    "#          __________                                                       #\n",
    "#   __  __/ ____/ __ \\__ __   This file is part of MicroGP4 v1.0 \"Kiwi\"     #\n",
    "#  / / / / / __/ /_/ / // /   (!) by Giovanni Squillero and Alberto Tonda   #\n",
    "# / /_/ / /_/ / ____/ // /_   https://github.com/squillero/microgp4         #\n",
    "# \\__  /\\____/_/   /__  __/                                                 #\n",
    "#   /_/ --MicroGP4-- /_/      \"You don't need a big goal, be μ-ambitious!!\" #\n",
    "#                                                                           #\n",
    "#############################################################################"
   ]
  },
  {
   "cell_type": "code",
   "execution_count": 163,
   "metadata": {},
   "outputs": [],
   "source": [
    "%matplotlib inline\n",
    "\n",
    "import sys\n",
    "sys.path += ['..']\n",
    "\n",
    "import os\n",
    "os.environ['PYTHONWARNINGS'] = 'default'"
   ]
  },
  {
   "cell_type": "code",
   "execution_count": 164,
   "metadata": {},
   "outputs": [],
   "source": [
    "import microgp as ugp4"
   ]
  },
  {
   "cell_type": "code",
   "execution_count": 190,
   "metadata": {},
   "outputs": [],
   "source": [
    "import math, random\n",
    "import numpy as np\n",
    "from scipy import stats\n",
    "import matplotlib.pyplot as plt\n",
    "import seaborn as sns"
   ]
  },
  {
   "cell_type": "markdown",
   "metadata": {},
   "source": [
    "In the following, we use stats.rv_discrete to generate a discrete distribution that has the probabilities of the truncated normal for the intervals centered around the integers."
   ]
  },
  {
   "cell_type": "code",
   "execution_count": 191,
   "metadata": {},
   "outputs": [],
   "source": [
    "npoints = 20   # number of integer support points of the distribution minus 1\n",
    "npointsh = npoints // 2\n",
    "npointsf = float(npoints)\n",
    "nbound = 4   # bounds for the truncated normal\n",
    "normbound = (1+1/npointsf) * nbound   # actual bounds of truncated normal\n",
    "grid = np.arange(-npointsh, npointsh+2, 1)   # integer grid\n",
    "gridlimitsnorm = (grid-0.5) / npointsh * nbound   # bin limits for the truncnorm\n",
    "gridlimits = grid - 0.5   # used later in the analysis\n",
    "grid = grid[:-1]\n",
    "probs = np.diff(stats.truncnorm.cdf(gridlimitsnorm, -normbound, normbound))\n",
    "gridint = grid"
   ]
  },
  {
   "cell_type": "code",
   "execution_count": 193,
   "metadata": {},
   "outputs": [],
   "source": [
    "normdiscrete = stats.rv_discrete(values=(gridint, np.round(probs, decimals=7)),\n",
    "                                 name='normdiscrete')"
   ]
  },
  {
   "cell_type": "code",
   "execution_count": 194,
   "metadata": {},
   "outputs": [
    {
     "name": "stdout",
     "output_type": "stream",
     "text": [
      "mean = -0.0000, variance = 6.3302, skew = 0.0000, kurtosis = -0.0076\n"
     ]
    }
   ],
   "source": [
    "print('mean = %6.4f, variance = %6.4f, skew = %6.4f, kurtosis = %6.4f' % normdiscrete.stats(moments='mvsk'))"
   ]
  },
  {
   "cell_type": "code",
   "execution_count": 195,
   "metadata": {},
   "outputs": [],
   "source": [
    "nd_std = np.sqrt(normdiscrete.stats(moments='v'))"
   ]
  },
  {
   "cell_type": "code",
   "execution_count": 196,
   "metadata": {},
   "outputs": [
    {
     "name": "stdout",
     "output_type": "stream",
     "text": [
      "[[-1.00000000e+01  1.00000000e+00  2.95019349e-02]\n",
      " [-9.00000000e+00  0.00000000e+00  1.32294142e-01]\n",
      " [-8.00000000e+00  0.00000000e+00  5.06497902e-01]\n",
      " [-7.00000000e+00  1.00000000e+00  1.65568919e+00]\n",
      " [-6.00000000e+00  5.00000000e+00  4.62125309e+00]\n",
      " [-5.00000000e+00  1.10000000e+01  1.10137298e+01]\n",
      " [-4.00000000e+00  2.30000000e+01  2.24137683e+01]\n",
      " [-3.00000000e+00  4.50000000e+01  3.89503370e+01]\n",
      " [-2.00000000e+00  5.50000000e+01  5.78004747e+01]\n",
      " [-1.00000000e+00  6.90000000e+01  7.32455414e+01]\n",
      " [ 0.00000000e+00  7.70000000e+01  7.92618251e+01]\n",
      " [ 1.00000000e+00  7.60000000e+01  7.32455414e+01]\n",
      " [ 2.00000000e+00  5.70000000e+01  5.78004747e+01]\n",
      " [ 3.00000000e+00  4.10000000e+01  3.89503370e+01]\n",
      " [ 4.00000000e+00  1.70000000e+01  2.24137683e+01]\n",
      " [ 5.00000000e+00  1.50000000e+01  1.10137298e+01]\n",
      " [ 6.00000000e+00  5.00000000e+00  4.62125309e+00]\n",
      " [ 7.00000000e+00  2.00000000e+00  1.65568919e+00]\n",
      " [ 8.00000000e+00  0.00000000e+00  5.06497902e-01]\n",
      " [ 9.00000000e+00  0.00000000e+00  1.32294142e-01]\n",
      " [ 1.00000000e+01  0.00000000e+00  2.95019349e-02]]\n"
     ]
    }
   ],
   "source": [
    "n_sample = 500\n",
    "rvs = normdiscrete.rvs(size=n_sample)\n",
    "f, l = np.histogram(rvs, bins=gridlimits)\n",
    "sfreq = np.vstack([gridint, f, probs*n_sample]).T\n",
    "print(sfreq)"
   ]
  },
  {
   "cell_type": "code",
   "execution_count": 197,
   "metadata": {},
   "outputs": [
    {
     "data": {
      "text/plain": [
       "<matplotlib.axes._subplots.AxesSubplot at 0x23e9cc08d88>"
      ]
     },
     "execution_count": 197,
     "metadata": {},
     "output_type": "execute_result"
    },
    {
     "data": {
      "image/png": "[encoded data removed]",
      "text/plain": [
       "<Figure size 432x288 with 1 Axes>"
      ]
     },
     "metadata": {
      "needs_background": "light"
     },
     "output_type": "display_data"
    }
   ],
   "source": [
    "sns.distplot(rvs)"
   ]
  },
  {
   "cell_type": "code",
   "execution_count": null,
   "metadata": {},
   "outputs": [],
   "source": []
  }
 ],
 "metadata": {
  "kernelspec": {
   "display_name": "Python 3",
   "language": "python",
   "name": "python3"
  },
  "language_info": {
   "codemirror_mode": {
    "name": "ipython",
    "version": 3
   },
   "file_extension": ".py",
   "mimetype": "text/x-python",
   "name": "python",
   "nbconvert_exporter": "python",
   "pygments_lexer": "ipython3",
   "version": "3.7.7"
  }
 },
 "nbformat": 4,
 "nbformat_minor": 4
}
